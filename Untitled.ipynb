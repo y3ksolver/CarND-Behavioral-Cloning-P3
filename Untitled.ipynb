{
 "cells": [
  {
   "cell_type": "code",
   "execution_count": null,
   "metadata": {
    "collapsed": true
   },
   "outputs": [],
   "source": [
    "import csv\n",
    "import cv2\n",
    "import numpy as np"
   ]
  },
  {
   "cell_type": "code",
   "execution_count": null,
   "metadata": {
    "collapsed": true
   },
   "outputs": [],
   "source": [
    "lines = []\n",
    "with open('./TrainingData/driving_log.csv') as csvfile:\n",
    "    reader = csv.reader(csvfile)\n",
    "    for line in reader:\n",
    "        lines.append(line)"
   ]
  },
  {
   "cell_type": "code",
   "execution_count": null,
   "metadata": {
    "collapsed": false
   },
   "outputs": [],
   "source": [
    "images = []\n",
    "measurements = []\n",
    "for line in lines:\n",
    "    source_path = line[0]\n",
    "    #filename = source_path.split(\"/\")[-1]\n",
    "    #current_path = \"./TrainingDataTesting/IMG/\" + filename\n",
    "    image = cv2.imread(source_path)\n",
    "    images.append(image)\n",
    "    measurement = float(line[3])\n",
    "    measurements.append(measurement)\n",
    "\n",
    "X_train = np.array(images)\n",
    "y_train = np.array(measurements)\n",
    "   "
   ]
  },
  {
   "cell_type": "code",
   "execution_count": null,
   "metadata": {
    "collapsed": false
   },
   "outputs": [],
   "source": [
    "from keras.models import Sequential\n",
    "from keras.layers import Flatten, Dense, Lambda, Cropping2D, Dropout\n",
    "from keras.layers.convolutional import Convolution2D\n",
    "from keras.layers.pooling import MaxPooling2D\n",
    "\n",
    "model = Sequential()\n",
    "\n",
    "#Preprocess\n",
    "model.add(Lambda(lambda x : x/255 - 0.5, input_shape = (160,320, 3)))\n",
    "model.add(Cropping2D(cropping = ((70, 0),(0,0))))\n",
    "\n",
    "#model.add(Convolution2D(64, 3, 3, input_shape = (160, 320, 3)))\n",
    "model.add(Convolution2D(64, 5, 5, activation=\"relu\"))\n",
    "print(model.layers[-1].output_shape)\n",
    "model.add(MaxPooling2D((2, 2)))\n",
    "model.add(Dropout(0.5))\n",
    "print(model.layers[-1].output_shape)\n",
    "\n",
    "model.add(Convolution2D(128, 5, 5, activation=\"relu\"))\n",
    "print(model.layers[-1].output_shape)\n",
    "model.add(MaxPooling2D((2, 2)))\n",
    "print(model.layers[-1].output_shape)\n",
    "\n",
    "model.add(Flatten())\n",
    "print(model.layers[-1].output_shape)\n",
    "model.add(Dropout(0.5))\n",
    "\n",
    "#model.add(Dense(256))\n",
    "model.add(Dense(1))\n",
    "print(model.layers[-1].output_shape)\n",
    "\n",
    "model.compile(loss = 'mse', optimizer = 'adam')\n",
    "model.fit(X_train, y_train, validation_split = 0.2, shuffle = True, nb_epoch=10)\n",
    "model.save(\"model.ib\")"
   ]
  },
  {
   "cell_type": "code",
   "execution_count": null,
   "metadata": {
    "collapsed": true
   },
   "outputs": [],
   "source": []
  },
  {
   "cell_type": "code",
   "execution_count": null,
   "metadata": {
    "collapsed": true
   },
   "outputs": [],
   "source": []
  },
  {
   "cell_type": "code",
   "execution_count": null,
   "metadata": {
    "collapsed": true
   },
   "outputs": [],
   "source": []
  }
 ],
 "metadata": {
  "kernelspec": {
   "display_name": "Python 3",
   "language": "python",
   "name": "python3"
  },
  "language_info": {
   "codemirror_mode": {
    "name": "ipython",
    "version": 3
   },
   "file_extension": ".py",
   "mimetype": "text/x-python",
   "name": "python",
   "nbconvert_exporter": "python",
   "pygments_lexer": "ipython3",
   "version": "3.6.0"
  }
 },
 "nbformat": 4,
 "nbformat_minor": 2
}
